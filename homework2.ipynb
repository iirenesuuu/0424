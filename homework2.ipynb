{
 "cells": [
  {
   "cell_type": "code",
   "execution_count": 1,
   "metadata": {},
   "outputs": [
    {
     "name": "stdout",
     "output_type": "stream",
     "text": [
      "請輸入幸運數字:8\n",
      "恭喜答對:D\n",
      "請輸入幸運數字:q\n",
      "再見! 886!\n"
     ]
    }
   ],
   "source": [
    "while True:\n",
    "    x = input('請輸入幸運數字:')\n",
    "    if x == '8':\n",
    "        print('恭喜答對:D')\n",
    "    elif x == 'q':\n",
    "        print('再見! 886!')\n",
    "        break\n",
    "    else:\n",
    "        print('加油! 繼續猜!')"
   ]
  },
  {
   "cell_type": "code",
   "execution_count": null,
   "metadata": {},
   "outputs": [],
   "source": []
  }
 ],
 "metadata": {
  "kernelspec": {
   "display_name": "Python 3",
   "language": "python",
   "name": "python3"
  },
  "language_info": {
   "codemirror_mode": {
    "name": "ipython",
    "version": 3
   },
   "file_extension": ".py",
   "mimetype": "text/x-python",
   "name": "python",
   "nbconvert_exporter": "python",
   "pygments_lexer": "ipython3",
   "version": "3.7.3"
  }
 },
 "nbformat": 4,
 "nbformat_minor": 2
}
